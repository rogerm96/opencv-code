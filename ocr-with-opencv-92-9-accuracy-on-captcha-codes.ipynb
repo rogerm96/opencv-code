{
 "cells": [
  {
   "cell_type": "code",
   "execution_count": 1,
   "metadata": {
    "_cell_guid": "b1076dfc-b9ad-4769-8c92-a6c4dae69d19",
    "_uuid": "8f2839f25d086af736a60e9eeb907d3b93b6e0e5",
    "execution": {
     "iopub.execute_input": "2020-10-23T11:14:03.227855Z",
     "iopub.status.busy": "2020-10-23T11:14:03.226969Z",
     "iopub.status.idle": "2020-10-23T11:14:03.614847Z",
     "shell.execute_reply": "2020-10-23T11:14:03.615546Z"
    },
    "papermill": {
     "duration": 0.423624,
     "end_time": "2020-10-23T11:14:03.615765",
     "exception": false,
     "start_time": "2020-10-23T11:14:03.192141",
     "status": "completed"
    },
    "tags": []
   },
   "outputs": [
    {
     "name": "stdout",
     "output_type": "stream",
     "text": [
      "/kaggle/input/captcha-version-2-images/samples/7wyp4.png\n",
      "/kaggle/input/captcha-version-2-images/samples/6wb76.png\n",
      "/kaggle/input/captcha-version-2-images/samples/c6f8g.png\n",
      "/kaggle/input/captcha-version-2-images/samples/4c8n8.png\n",
      "/kaggle/input/captcha-version-2-images/samples/ec6pm.png\n",
      "/kaggle/input/captcha-version-2-images/samples/fpw76.png\n",
      "/kaggle/input/captcha-version-2-images/samples/e7x45.png\n",
      "/kaggle/input/captcha-version-2-images/samples/6end3.png\n",
      "/kaggle/input/captcha-version-2-images/samples/c4bgd.png\n",
      "/kaggle/input/captcha-version-2-images/samples/n4cpy.png\n",
      "/kaggle/input/captcha-version-2-images/samples/88bgx.png\n",
      "/kaggle/input/captcha-version-2-images/samples/samples/7wyp4.png\n"
     ]
    }
   ],
   "source": [
    "# This Python 3 environment comes with many helpful analytics libraries installed\n",
    "# It is defined by the kaggle/python Docker image: https://github.com/kaggle/docker-python\n",
    "# For example, here's several helpful packages to load\n",
    "import os\n",
    "import cv2\n",
    "import matplotlib.pyplot as plt\n",
    "\n",
    "from pathlib import Path\n",
    "import numpy as np # linear algebra\n",
    "import pandas as pd # data processing, CSV file I/O (e.g. pd.read_csv)\n",
    "\n",
    "# Input data files are available in the read-only \"../input/\" directory\n",
    "# For example, running this (by clicking run or pressing Shift+Enter) will list all files under the input directory\n",
    "\n",
    "import os\n",
    "i=0;\n",
    "for dirname, _, filenames in os.walk('/kaggle/input'):\n",
    "    for filename in filenames:\n",
    "        i+=1\n",
    "        print(os.path.join(dirname, filename))\n",
    "        if(i>10):\n",
    "            break\n",
    "\n",
    "# You can write up to 5GB to the current directory (/kaggle/working/) that gets preserved as output when you create a version using \"Save & Run All\" \n",
    "# You can also write temporary files to /kaggle/temp/, but they won't be saved outside of the current session"
   ]
  },
  {
   "cell_type": "markdown",
   "metadata": {
    "papermill": {
     "duration": 0.026426,
     "end_time": "2020-10-23T11:14:03.672523",
     "exception": false,
     "start_time": "2020-10-23T11:14:03.646097",
     "status": "completed"
    },
    "tags": []
   },
   "source": [
    "# **Loading images**"
   ]
  },
  {
   "cell_type": "code",
   "execution_count": 2,
   "metadata": {
    "_cell_guid": "79c7e3d0-c299-4dcb-8224-4455121ee9b0",
    "_uuid": "d629ff2d2480ee46fbb7e2d37f6b5fab8052498a",
    "execution": {
     "iopub.execute_input": "2020-10-23T11:14:03.733202Z",
     "iopub.status.busy": "2020-10-23T11:14:03.732138Z",
     "iopub.status.idle": "2020-10-23T11:14:03.741146Z",
     "shell.execute_reply": "2020-10-23T11:14:03.740441Z"
    },
    "papermill": {
     "duration": 0.040841,
     "end_time": "2020-10-23T11:14:03.741296",
     "exception": false,
     "start_time": "2020-10-23T11:14:03.700455",
     "status": "completed"
    },
    "tags": []
   },
   "outputs": [],
   "source": [
    "data_dir = Path(\"../input/captcha-version-2-images/samples/\")\n",
    "images = list(data_dir.glob(\"*.png\"))"
   ]
  },
  {
   "cell_type": "markdown",
   "metadata": {
    "papermill": {
     "duration": 0.026911,
     "end_time": "2020-10-23T11:14:03.795495",
     "exception": false,
     "start_time": "2020-10-23T11:14:03.768584",
     "status": "completed"
    },
    "tags": []
   },
   "source": [
    "# Creating labelled data\n",
    "As we know that each of our image contains a line , basically a thin line which cuts several characters.\n",
    "So we are going to remove that line by morphological operations on our image(Erosion and dilation).\n",
    "First we wil threshold our image , we are gonna use Adaptive thresolding , then we will dilate to remove that line.\n",
    "Its also clearly visible that each image contains 5 characters and the positions of all 5 characters are always same.\n",
    "So we wil hardcode character's position and from each image we will extract five characters with their corresponding label , and hence will get a labelled data.\n",
    "We wil pad each character image to change it in required dimension."
   ]
  },
  {
   "cell_type": "markdown",
   "metadata": {
    "papermill": {
     "duration": 0.027187,
     "end_time": "2020-10-23T11:14:03.849310",
     "exception": false,
     "start_time": "2020-10-23T11:14:03.822123",
     "status": "completed"
    },
    "tags": []
   },
   "source": [
    "**Defining function for padding**"
   ]
  },
  {
   "cell_type": "code",
   "execution_count": 3,
   "metadata": {
    "execution": {
     "iopub.execute_input": "2020-10-23T11:14:03.912324Z",
     "iopub.status.busy": "2020-10-23T11:14:03.911313Z",
     "iopub.status.idle": "2020-10-23T11:14:03.914330Z",
     "shell.execute_reply": "2020-10-23T11:14:03.913809Z"
    },
    "papermill": {
     "duration": 0.038731,
     "end_time": "2020-10-23T11:14:03.914428",
     "exception": false,
     "start_time": "2020-10-23T11:14:03.875697",
     "status": "completed"
    },
    "tags": []
   },
   "outputs": [],
   "source": [
    "kernel =np.ones((3,1),np.uint8)\n",
    "borderType = cv2.BORDER_CONSTANT\n",
    "def pad(src): \n",
    "    top = int(0.05 * src.shape[0])  # shape[0] = rows\n",
    "    bottom = top\n",
    "    left = int(0.15 * src.shape[1])  # shape[1] = cols\n",
    "    right = left\n",
    "    des=cv2.copyMakeBorder(src, top, bottom, left+1, right, borderType, None,255)\n",
    "    return cv2.bitwise_not(des)"
   ]
  },
  {
   "cell_type": "markdown",
   "metadata": {
    "papermill": {
     "duration": 0.028154,
     "end_time": "2020-10-23T11:14:03.970819",
     "exception": false,
     "start_time": "2020-10-23T11:14:03.942665",
     "status": "completed"
    },
    "tags": []
   },
   "source": [
    "**CREATING LABELLED DATA**"
   ]
  },
  {
   "cell_type": "code",
   "execution_count": 4,
   "metadata": {
    "execution": {
     "iopub.execute_input": "2020-10-23T11:14:04.035141Z",
     "iopub.status.busy": "2020-10-23T11:14:04.034489Z",
     "iopub.status.idle": "2020-10-23T11:14:07.500463Z",
     "shell.execute_reply": "2020-10-23T11:14:07.498970Z"
    },
    "papermill": {
     "duration": 3.502288,
     "end_time": "2020-10-23T11:14:07.500624",
     "exception": false,
     "start_time": "2020-10-23T11:14:03.998336",
     "status": "completed"
    },
    "tags": []
   },
   "outputs": [],
   "source": [
    "x=[]\n",
    "y=[]\n",
    "for image in images:\n",
    "    im=cv2.imread(str(image),0)\n",
    "    threshold=cv2.adaptiveThreshold(im, 255, cv2.ADAPTIVE_THRESH_GAUSSIAN_C,cv2.THRESH_BINARY, 199, 5)\n",
    "    erosion =cv2.dilate(threshold,kernel,iterations=2)\n",
    "    s=str(image)\n",
    "    for i in range(5):\n",
    "        x.append(pad(erosion[:,(30+23*i):(30+23*(i+1))]))\n",
    "        y.append(s[-9+i])"
   ]
  },
  {
   "cell_type": "code",
   "execution_count": 5,
   "metadata": {
    "execution": {
     "iopub.execute_input": "2020-10-23T11:14:07.569549Z",
     "iopub.status.busy": "2020-10-23T11:14:07.568818Z",
     "iopub.status.idle": "2020-10-23T11:14:07.829676Z",
     "shell.execute_reply": "2020-10-23T11:14:07.830995Z"
    },
    "papermill": {
     "duration": 0.299086,
     "end_time": "2020-10-23T11:14:07.831232",
     "exception": false,
     "start_time": "2020-10-23T11:14:07.532146",
     "status": "completed"
    },
    "tags": []
   },
   "outputs": [
    {
     "data": {
      "text/plain": [
       "<matplotlib.image.AxesImage at 0x7f66f6259e10>"
      ]
     },
     "execution_count": 5,
     "metadata": {},
     "output_type": "execute_result"
    },
    {
     "data": {
      "image/png": "[encoded data removed]",
      "text/plain": [
       "<Figure size 432x288 with 1 Axes>"
      ]
     },
     "metadata": {
      "needs_background": "light"
     },
     "output_type": "display_data"
    }
   ],
   "source": [
    "plt.imshow(x[56])"
   ]
  },
  {
   "cell_type": "code",
   "execution_count": 6,
   "metadata": {
    "execution": {
     "iopub.execute_input": "2020-10-23T11:14:07.971283Z",
     "iopub.status.busy": "2020-10-23T11:14:07.969946Z",
     "iopub.status.idle": "2020-10-23T11:14:07.978682Z",
     "shell.execute_reply": "2020-10-23T11:14:07.975861Z"
    },
    "papermill": {
     "duration": 0.08356,
     "end_time": "2020-10-23T11:14:07.978859",
     "exception": false,
     "start_time": "2020-10-23T11:14:07.895299",
     "status": "completed"
    },
    "tags": []
   },
   "outputs": [
    {
     "data": {
      "text/plain": [
       "'x'"
      ]
     },
     "execution_count": 6,
     "metadata": {},
     "output_type": "execute_result"
    }
   ],
   "source": [
    "y[56]"
   ]
  },
  {
   "cell_type": "code",
   "execution_count": 7,
   "metadata": {
    "execution": {
     "iopub.execute_input": "2020-10-23T11:14:08.121517Z",
     "iopub.status.busy": "2020-10-23T11:14:08.120525Z",
     "iopub.status.idle": "2020-10-23T11:14:08.135601Z",
     "shell.execute_reply": "2020-10-23T11:14:08.136774Z"
    },
    "papermill": {
     "duration": 0.083141,
     "end_time": "2020-10-23T11:14:08.136953",
     "exception": false,
     "start_time": "2020-10-23T11:14:08.053812",
     "status": "completed"
    },
    "tags": []
   },
   "outputs": [],
   "source": [
    "x=np.array(x)\n",
    "y=np.array(y)"
   ]
  },
  {
   "cell_type": "markdown",
   "metadata": {
    "papermill": {
     "duration": 0.042055,
     "end_time": "2020-10-23T11:14:08.221920",
     "exception": false,
     "start_time": "2020-10-23T11:14:08.179865",
     "status": "completed"
    },
    "tags": []
   },
   "source": [
    "**TO see which characters are present and their corresponding frequencies , to ensure that our data is not biased**"
   ]
  },
  {
   "cell_type": "code",
   "execution_count": 8,
   "metadata": {
    "execution": {
     "iopub.execute_input": "2020-10-23T11:14:08.317884Z",
     "iopub.status.busy": "2020-10-23T11:14:08.316962Z",
     "iopub.status.idle": "2020-10-23T11:14:08.324850Z",
     "shell.execute_reply": "2020-10-23T11:14:08.325633Z"
    },
    "papermill": {
     "duration": 0.061608,
     "end_time": "2020-10-23T11:14:08.325827",
     "exception": false,
     "start_time": "2020-10-23T11:14:08.264219",
     "status": "completed"
    },
    "tags": []
   },
   "outputs": [
    {
     "name": "stdout",
     "output_type": "stream",
     "text": [
      "[['2' '265']\n",
      " ['3' '267']\n",
      " ['4' '284']\n",
      " ['5' '281']\n",
      " ['6' '259']\n",
      " ['7' '258']\n",
      " ['8' '264']\n",
      " ['b' '240']\n",
      " ['c' '262']\n",
      " ['d' '259']\n",
      " ['e' '235']\n",
      " ['f' '271']\n",
      " ['g' '271']\n",
      " ['m' '275']\n",
      " ['n' '525']\n",
      " ['p' '253']\n",
      " ['w' '235']\n",
      " ['x' '264']\n",
      " ['y' '232']]\n"
     ]
    }
   ],
   "source": [
    "(unique, counts) = np.unique(y, return_counts=True)\n",
    "frequencies = np.asarray((unique, counts)).T\n",
    "\n",
    "print(frequencies)"
   ]
  },
  {
   "cell_type": "code",
   "execution_count": 9,
   "metadata": {
    "execution": {
     "iopub.execute_input": "2020-10-23T11:14:08.420354Z",
     "iopub.status.busy": "2020-10-23T11:14:08.419363Z",
     "iopub.status.idle": "2020-10-23T11:14:08.421963Z",
     "shell.execute_reply": "2020-10-23T11:14:08.421136Z"
    },
    "papermill": {
     "duration": 0.0531,
     "end_time": "2020-10-23T11:14:08.422108",
     "exception": false,
     "start_time": "2020-10-23T11:14:08.369008",
     "status": "completed"
    },
    "tags": []
   },
   "outputs": [],
   "source": [
    "data=np.reshape(x,(-1,54,30,1))"
   ]
  },
  {
   "cell_type": "markdown",
   "metadata": {
    "papermill": {
     "duration": 0.054362,
     "end_time": "2020-10-23T11:14:08.519926",
     "exception": false,
     "start_time": "2020-10-23T11:14:08.465564",
     "status": "completed"
    },
    "tags": []
   },
   "source": [
    "# Converting labels in one-hot encoder form"
   ]
  },
  {
   "cell_type": "code",
   "execution_count": 10,
   "metadata": {
    "execution": {
     "iopub.execute_input": "2020-10-23T11:14:08.626691Z",
     "iopub.status.busy": "2020-10-23T11:14:08.625894Z",
     "iopub.status.idle": "2020-10-23T11:14:08.718843Z",
     "shell.execute_reply": "2020-10-23T11:14:08.719945Z"
    },
    "papermill": {
     "duration": 0.15077,
     "end_time": "2020-10-23T11:14:08.720111",
     "exception": false,
     "start_time": "2020-10-23T11:14:08.569341",
     "status": "completed"
    },
    "tags": []
   },
   "outputs": [],
   "source": [
    "train = []\n",
    "l=['2','3','4','5','6','7','8','b','c','d','e','f','g','m','n','p','w','x','y']\n",
    "for j in y:\n",
    "    i=l.index(j)\n",
    "    a=[]\n",
    "    for r in range(19):\n",
    "        if(r==i):\n",
    "            a.append(1)\n",
    "        else:\n",
    "            a.append(0)\n",
    "    a=np.array(a)\n",
    "    train.append(a)\n",
    "train=np.array(train)    "
   ]
  },
  {
   "cell_type": "markdown",
   "metadata": {
    "papermill": {
     "duration": 0.032904,
     "end_time": "2020-10-23T11:14:08.798956",
     "exception": false,
     "start_time": "2020-10-23T11:14:08.766052",
     "status": "completed"
    },
    "tags": []
   },
   "source": [
    "# **Importing libraries to definne our model**"
   ]
  },
  {
   "cell_type": "code",
   "execution_count": 11,
   "metadata": {
    "execution": {
     "iopub.execute_input": "2020-10-23T11:14:08.885494Z",
     "iopub.status.busy": "2020-10-23T11:14:08.884594Z",
     "iopub.status.idle": "2020-10-23T11:14:15.105157Z",
     "shell.execute_reply": "2020-10-23T11:14:15.104493Z"
    },
    "papermill": {
     "duration": 6.271679,
     "end_time": "2020-10-23T11:14:15.105390",
     "exception": false,
     "start_time": "2020-10-23T11:14:08.833711",
     "status": "completed"
    },
    "tags": []
   },
   "outputs": [],
   "source": [
    "import matplotlib.image as mpimg\n",
    "import seaborn as sns\n",
    "%matplotlib inline\n",
    "\n",
    "np.random.seed(2)\n",
    "\n",
    "from sklearn.model_selection import train_test_split\n",
    "from sklearn.metrics import confusion_matrix\n",
    "import itertools\n",
    "\n",
    "from keras.utils.np_utils import to_categorical # convert to one-hot-encoding\n",
    "from keras.models import Sequential\n",
    "from keras.layers import Dense, Dropout, Flatten, Conv2D, MaxPool2D\n",
    "from keras.optimizers import RMSprop\n",
    "from keras.preprocessing.image import ImageDataGenerator\n",
    "from keras.callbacks import ReduceLROnPlateau\n",
    "\n",
    "\n",
    "sns.set(style='white', context='notebook', palette='deep')"
   ]
  },
  {
   "cell_type": "markdown",
   "metadata": {
    "papermill": {
     "duration": 0.031178,
     "end_time": "2020-10-23T11:14:15.167976",
     "exception": false,
     "start_time": "2020-10-23T11:14:15.136798",
     "status": "completed"
    },
    "tags": []
   },
   "source": [
    "# **Defining architecture of our Model**"
   ]
  },
  {
   "cell_type": "code",
   "execution_count": 12,
   "metadata": {
    "execution": {
     "iopub.execute_input": "2020-10-23T11:14:15.246579Z",
     "iopub.status.busy": "2020-10-23T11:14:15.245742Z",
     "iopub.status.idle": "2020-10-23T11:14:18.249330Z",
     "shell.execute_reply": "2020-10-23T11:14:18.247891Z"
    },
    "papermill": {
     "duration": 3.050432,
     "end_time": "2020-10-23T11:14:18.249464",
     "exception": false,
     "start_time": "2020-10-23T11:14:15.199032",
     "status": "completed"
    },
    "tags": []
   },
   "outputs": [],
   "source": [
    "model = Sequential()\n",
    "model.add(Conv2D(filters = 16, kernel_size = (5,5),padding = 'Same', \n",
    "                 activation ='relu', input_shape = (50,30,1)))\n",
    "model.add(Conv2D(filters = 16, kernel_size = (5,5),padding = 'Same', \n",
    "                 activation ='relu'))\n",
    "model.add(MaxPool2D(pool_size=(2,2)))\n",
    "model.add(Dropout(0.25))\n",
    "\n",
    "model.add(Conv2D(filters = 32, kernel_size = (5,5),padding = 'Same', \n",
    "                 activation ='relu'))\n",
    "model.add(Conv2D(filters = 32, kernel_size = (5,5),padding = 'Same', \n",
    "                 activation ='relu'))\n",
    "model.add(MaxPool2D(pool_size=(2,2)))\n",
    "model.add(Dropout(0.25))\n",
    "\n",
    "\n",
    "model.add(Conv2D(filters = 64, kernel_size = (3,3),padding = 'Same', \n",
    "                 activation ='relu'))\n",
    "model.add(Conv2D(filters = 64, kernel_size = (3,3),padding = 'Same', \n",
    "                 activation ='relu'))\n",
    "model.add(MaxPool2D(pool_size=(2,2), strides=(2,2)))\n",
    "model.add(Dropout(0.25))\n",
    "\n",
    "model.add(Flatten())\n",
    "model.add(Dense(256, activation = \"relu\"))\n",
    "model.add(Dropout(0.5))\n",
    "model.add(Dense(19, activation = \"softmax\"))"
   ]
  },
  {
   "cell_type": "markdown",
   "metadata": {
    "papermill": {
     "duration": 0.031027,
     "end_time": "2020-10-23T11:14:18.313795",
     "exception": false,
     "start_time": "2020-10-23T11:14:18.282768",
     "status": "completed"
    },
    "tags": []
   },
   "source": [
    "**Optimizer Functions**"
   ]
  },
  {
   "cell_type": "code",
   "execution_count": 13,
   "metadata": {
    "execution": {
     "iopub.execute_input": "2020-10-23T11:14:18.391568Z",
     "iopub.status.busy": "2020-10-23T11:14:18.390450Z",
     "iopub.status.idle": "2020-10-23T11:14:18.397971Z",
     "shell.execute_reply": "2020-10-23T11:14:18.397427Z"
    },
    "papermill": {
     "duration": 0.053218,
     "end_time": "2020-10-23T11:14:18.398096",
     "exception": false,
     "start_time": "2020-10-23T11:14:18.344878",
     "status": "completed"
    },
    "tags": []
   },
   "outputs": [],
   "source": [
    "optimizer = RMSprop(lr=0.001, rho=0.9, epsilon=1e-08, decay=0.0)\n",
    "model.compile(optimizer = optimizer , loss = \"categorical_crossentropy\", metrics=[\"accuracy\"])\n",
    "learning_rate_reduction = ReduceLROnPlateau(monitor='val_accuracy', \n",
    "                                            patience=3, \n",
    "                                            verbose=1, \n",
    "                                            factor=0.5, \n",
    "                                            min_lr=0.00001)"
   ]
  },
  {
   "cell_type": "code",
   "execution_count": 14,
   "metadata": {
    "execution": {
     "iopub.execute_input": "2020-10-23T11:14:18.465707Z",
     "iopub.status.busy": "2020-10-23T11:14:18.464975Z",
     "iopub.status.idle": "2020-10-23T11:14:18.469774Z",
     "shell.execute_reply": "2020-10-23T11:14:18.469142Z"
    },
    "papermill": {
     "duration": 0.040442,
     "end_time": "2020-10-23T11:14:18.469890",
     "exception": false,
     "start_time": "2020-10-23T11:14:18.429448",
     "status": "completed"
    },
    "tags": []
   },
   "outputs": [],
   "source": [
    "epochs = 30 # Turn epochs to 30 to get 0.9967 accuracy\n",
    "batch_size = 86"
   ]
  },
  {
   "cell_type": "markdown",
   "metadata": {
    "papermill": {
     "duration": 0.030568,
     "end_time": "2020-10-23T11:14:18.531167",
     "exception": false,
     "start_time": "2020-10-23T11:14:18.500599",
     "status": "completed"
    },
    "tags": []
   },
   "source": [
    "**Splitting Data**"
   ]
  },
  {
   "cell_type": "code",
   "execution_count": 15,
   "metadata": {
    "execution": {
     "iopub.execute_input": "2020-10-23T11:14:18.601615Z",
     "iopub.status.busy": "2020-10-23T11:14:18.600339Z",
     "iopub.status.idle": "2020-10-23T11:14:18.633413Z",
     "shell.execute_reply": "2020-10-23T11:14:18.632723Z"
    },
    "papermill": {
     "duration": 0.070805,
     "end_time": "2020-10-23T11:14:18.633532",
     "exception": false,
     "start_time": "2020-10-23T11:14:18.562727",
     "status": "completed"
    },
    "tags": []
   },
   "outputs": [],
   "source": [
    "X_train, X_val, Y_train, Y_val = train_test_split(data, train, test_size = 0.1, random_state= 2)\n",
    "X_train=X_train/255.0\n",
    "X_val=X_val/255.0"
   ]
  },
  {
   "cell_type": "markdown",
   "metadata": {
    "papermill": {
     "duration": 0.031732,
     "end_time": "2020-10-23T11:14:18.697413",
     "exception": false,
     "start_time": "2020-10-23T11:14:18.665681",
     "status": "completed"
    },
    "tags": []
   },
   "source": [
    "# Data Augmentation"
   ]
  },
  {
   "cell_type": "code",
   "execution_count": 16,
   "metadata": {
    "execution": {
     "iopub.execute_input": "2020-10-23T11:14:18.807240Z",
     "iopub.status.busy": "2020-10-23T11:14:18.806264Z",
     "iopub.status.idle": "2020-10-23T11:14:18.851648Z",
     "shell.execute_reply": "2020-10-23T11:14:18.857449Z"
    },
    "papermill": {
     "duration": 0.11352,
     "end_time": "2020-10-23T11:14:18.857710",
     "exception": false,
     "start_time": "2020-10-23T11:14:18.744190",
     "status": "completed"
    },
    "tags": []
   },
   "outputs": [],
   "source": [
    "datagen = ImageDataGenerator(\n",
    "        featurewise_center=False,  # set input mean to 0 over the dataset\n",
    "        samplewise_center=False,  # set each sample mean to 0\n",
    "        featurewise_std_normalization=False,  # divide inputs by std of the dataset\n",
    "        samplewise_std_normalization=False,  # divide each input by its std\n",
    "        zca_whitening=False,  # apply ZCA whitening\n",
    "        rotation_range=5,  # randomly rotate images in the range (degrees, 0 to 180)\n",
    "        zoom_range = False, # Randomly zoom image \n",
    "        width_shift_range=0.1,  # randomly shift images horizontally (fraction of total width)\n",
    "        height_shift_range=0.1,  # randomly shift images vertically (fraction of total height)\n",
    "        horizontal_flip=False,  # randomly flip images\n",
    "        vertical_flip=False)  # randomly flip images\n",
    "\n",
    "\n",
    "datagen.fit(X_train)"
   ]
  },
  {
   "cell_type": "markdown",
   "metadata": {
    "papermill": {
     "duration": 0.044251,
     "end_time": "2020-10-23T11:14:18.970671",
     "exception": false,
     "start_time": "2020-10-23T11:14:18.926420",
     "status": "completed"
    },
    "tags": []
   },
   "source": [
    "# Fitting data into the Model"
   ]
  },
  {
   "cell_type": "code",
   "execution_count": 17,
   "metadata": {
    "execution": {
     "iopub.execute_input": "2020-10-23T11:14:19.076343Z",
     "iopub.status.busy": "2020-10-23T11:14:19.075351Z",
     "iopub.status.idle": "2020-10-23T11:15:27.048217Z",
     "shell.execute_reply": "2020-10-23T11:15:27.049578Z"
    },
    "papermill": {
     "duration": 68.033764,
     "end_time": "2020-10-23T11:15:27.049791",
     "exception": false,
     "start_time": "2020-10-23T11:14:19.016027",
     "status": "completed"
    },
    "tags": []
   },
   "outputs": [
    {
     "name": "stdout",
     "output_type": "stream",
     "text": [
      "Epoch 1/30\n",
      "54/54 [==============================] - 2s 41ms/step - loss: 2.6138 - accuracy: 0.1894 - val_loss: 1.4217 - val_accuracy: 0.6346\n",
      "Epoch 2/30\n",
      "54/54 [==============================] - 2s 35ms/step - loss: 1.8516 - accuracy: 0.4327 - val_loss: 0.8673 - val_accuracy: 0.7904\n",
      "Epoch 3/30\n",
      "54/54 [==============================] - 2s 36ms/step - loss: 1.2763 - accuracy: 0.6088 - val_loss: 0.7419 - val_accuracy: 0.7750\n",
      "Epoch 4/30\n",
      "54/54 [==============================] - 2s 41ms/step - loss: 0.9519 - accuracy: 0.7042 - val_loss: 0.4635 - val_accuracy: 0.8558\n",
      "Epoch 5/30\n",
      "54/54 [==============================] - 2s 35ms/step - loss: 0.7124 - accuracy: 0.7797 - val_loss: 0.3790 - val_accuracy: 0.8827\n",
      "Epoch 6/30\n",
      "54/54 [==============================] - 2s 35ms/step - loss: 0.6083 - accuracy: 0.8124 - val_loss: 0.3497 - val_accuracy: 0.8788\n",
      "Epoch 7/30\n",
      "54/54 [==============================] - 2s 35ms/step - loss: 0.5048 - accuracy: 0.8476 - val_loss: 0.2762 - val_accuracy: 0.9192\n",
      "Epoch 8/30\n",
      "54/54 [==============================] - 2s 35ms/step - loss: 0.4513 - accuracy: 0.8585 - val_loss: 0.2673 - val_accuracy: 0.9192\n",
      "Epoch 9/30\n",
      "54/54 [==============================] - 2s 42ms/step - loss: 0.3886 - accuracy: 0.8883 - val_loss: 0.2744 - val_accuracy: 0.9192\n",
      "Epoch 10/30\n",
      "54/54 [==============================] - 2s 35ms/step - loss: 0.3520 - accuracy: 0.8923 - val_loss: 0.2247 - val_accuracy: 0.9308\n",
      "Epoch 11/30\n",
      "54/54 [==============================] - 2s 35ms/step - loss: 0.3091 - accuracy: 0.8990 - val_loss: 0.2045 - val_accuracy: 0.9404\n",
      "Epoch 12/30\n",
      "54/54 [==============================] - 2s 35ms/step - loss: 0.2985 - accuracy: 0.9060 - val_loss: 0.2131 - val_accuracy: 0.9423\n",
      "Epoch 13/30\n",
      "54/54 [==============================] - 2s 37ms/step - loss: 0.2758 - accuracy: 0.9188 - val_loss: 0.2238 - val_accuracy: 0.9481\n",
      "Epoch 14/30\n",
      "54/54 [==============================] - 2s 42ms/step - loss: 0.2491 - accuracy: 0.9197 - val_loss: 0.2101 - val_accuracy: 0.9519\n",
      "Epoch 15/30\n",
      "54/54 [==============================] - 3s 47ms/step - loss: 0.2315 - accuracy: 0.9258 - val_loss: 0.2046 - val_accuracy: 0.9615\n",
      "Epoch 16/30\n",
      "54/54 [==============================] - 3s 53ms/step - loss: 0.2327 - accuracy: 0.9303 - val_loss: 0.1630 - val_accuracy: 0.9654\n",
      "Epoch 17/30\n",
      "54/54 [==============================] - 2s 36ms/step - loss: 0.1992 - accuracy: 0.9406 - val_loss: 0.2232 - val_accuracy: 0.9577\n",
      "Epoch 18/30\n",
      "54/54 [==============================] - 2s 37ms/step - loss: 0.1926 - accuracy: 0.9425 - val_loss: 0.2159 - val_accuracy: 0.9615\n",
      "Epoch 19/30\n",
      "54/54 [==============================] - ETA: 0s - loss: 0.1866 - accuracy: 0.9419\n",
      "Epoch 00019: ReduceLROnPlateau reducing learning rate to 0.0005000000237487257.\n",
      "54/54 [==============================] - 2s 43ms/step - loss: 0.1866 - accuracy: 0.9419 - val_loss: 0.1883 - val_accuracy: 0.9615\n",
      "Epoch 20/30\n",
      "54/54 [==============================] - 2s 36ms/step - loss: 0.1537 - accuracy: 0.9539 - val_loss: 0.1794 - val_accuracy: 0.9750\n",
      "Epoch 21/30\n",
      "54/54 [==============================] - 2s 34ms/step - loss: 0.1436 - accuracy: 0.9549 - val_loss: 0.1814 - val_accuracy: 0.9731\n",
      "Epoch 22/30\n",
      "54/54 [==============================] - 2s 34ms/step - loss: 0.1354 - accuracy: 0.9634 - val_loss: 0.1838 - val_accuracy: 0.9673\n",
      "Epoch 23/30\n",
      "54/54 [==============================] - ETA: 0s - loss: 0.1309 - accuracy: 0.9608\n",
      "Epoch 00023: ReduceLROnPlateau reducing learning rate to 0.0002500000118743628.\n",
      "54/54 [==============================] - 2s 34ms/step - loss: 0.1309 - accuracy: 0.9608 - val_loss: 0.1717 - val_accuracy: 0.9731\n",
      "Epoch 24/30\n",
      "54/54 [==============================] - 2s 41ms/step - loss: 0.1242 - accuracy: 0.9643 - val_loss: 0.1962 - val_accuracy: 0.9692\n",
      "Epoch 25/30\n",
      "54/54 [==============================] - 2s 34ms/step - loss: 0.1091 - accuracy: 0.9667 - val_loss: 0.1934 - val_accuracy: 0.9692\n",
      "Epoch 26/30\n",
      "53/54 [============================>.] - ETA: 0s - loss: 0.1165 - accuracy: 0.9650\n",
      "Epoch 00026: ReduceLROnPlateau reducing learning rate to 0.0001250000059371814.\n",
      "54/54 [==============================] - 2s 34ms/step - loss: 0.1158 - accuracy: 0.9650 - val_loss: 0.1675 - val_accuracy: 0.9712\n",
      "Epoch 27/30\n",
      "54/54 [==============================] - 2s 39ms/step - loss: 0.1039 - accuracy: 0.9673 - val_loss: 0.1829 - val_accuracy: 0.9731\n",
      "Epoch 28/30\n",
      "54/54 [==============================] - 2s 34ms/step - loss: 0.1057 - accuracy: 0.9689 - val_loss: 0.1876 - val_accuracy: 0.9731\n",
      "Epoch 29/30\n",
      "54/54 [==============================] - ETA: 0s - loss: 0.0982 - accuracy: 0.9706\n",
      "Epoch 00029: ReduceLROnPlateau reducing learning rate to 6.25000029685907e-05.\n",
      "54/54 [==============================] - 2s 35ms/step - loss: 0.0982 - accuracy: 0.9706 - val_loss: 0.1802 - val_accuracy: 0.9750\n",
      "Epoch 30/30\n",
      "54/54 [==============================] - 3s 47ms/step - loss: 0.0988 - accuracy: 0.9695 - val_loss: 0.1792 - val_accuracy: 0.9750\n"
     ]
    }
   ],
   "source": [
    "history = model.fit_generator(datagen.flow(X_train,Y_train, batch_size=batch_size),\n",
    "                              epochs =  30, validation_data = (X_val,Y_val),\n",
    "                              verbose = 1, steps_per_epoch=X_train.shape[0] // batch_size\n",
    "                              , callbacks=[learning_rate_reduction])"
   ]
  },
  {
   "cell_type": "markdown",
   "metadata": {
    "papermill": {
     "duration": 0.385748,
     "end_time": "2020-10-23T11:15:27.969596",
     "exception": false,
     "start_time": "2020-10-23T11:15:27.583848",
     "status": "completed"
    },
    "tags": []
   },
   "source": [
    "# Analysing losses"
   ]
  },
  {
   "cell_type": "code",
   "execution_count": 18,
   "metadata": {
    "execution": {
     "iopub.execute_input": "2020-10-23T11:15:28.756450Z",
     "iopub.status.busy": "2020-10-23T11:15:28.755088Z",
     "iopub.status.idle": "2020-10-23T11:15:29.351900Z",
     "shell.execute_reply": "2020-10-23T11:15:29.352633Z"
    },
    "papermill": {
     "duration": 0.996927,
     "end_time": "2020-10-23T11:15:29.352839",
     "exception": false,
     "start_time": "2020-10-23T11:15:28.355912",
     "status": "completed"
    },
    "tags": []
   },
   "outputs": [
    {
     "data": {
      "image/png": "[encoded data removed]",
      "text/plain": [
       "<Figure size 432x288 with 2 Axes>"
      ]
     },
     "metadata": {},
     "output_type": "display_data"
    }
   ],
   "source": [
    "fig, ax = plt.subplots(2,1)\n",
    "ax[0].plot(history.history['loss'], color='b', label=\"Training loss\")\n",
    "ax[0].plot(history.history['val_loss'], color='r', label=\"validation loss\",axes =ax[0])\n",
    "legend = ax[0].legend(loc='best', shadow=True)\n",
    "\n",
    "ax[1].plot(history.history['accuracy'], color='b', label=\"Training accuracy\")\n",
    "ax[1].plot(history.history['val_accuracy'], color='r',label=\"Validation accuracy\")\n",
    "legend = ax[1].legend(loc='best', shadow=True)"
   ]
  },
  {
   "cell_type": "markdown",
   "metadata": {
    "papermill": {
     "duration": 0.419582,
     "end_time": "2020-10-23T11:15:30.197907",
     "exception": false,
     "start_time": "2020-10-23T11:15:29.778325",
     "status": "completed"
    },
    "tags": []
   },
   "source": [
    "# Analysing out top-6 wrongly identified characters"
   ]
  },
  {
   "cell_type": "code",
   "execution_count": 19,
   "metadata": {
    "execution": {
     "iopub.execute_input": "2020-10-23T11:15:30.998350Z",
     "iopub.status.busy": "2020-10-23T11:15:30.997102Z",
     "iopub.status.idle": "2020-10-23T11:15:32.678781Z",
     "shell.execute_reply": "2020-10-23T11:15:32.678108Z"
    },
    "papermill": {
     "duration": 2.089793,
     "end_time": "2020-10-23T11:15:32.678916",
     "exception": false,
     "start_time": "2020-10-23T11:15:30.589123",
     "status": "completed"
    },
    "tags": []
   },
   "outputs": [
    {
     "name": "stdout",
     "output_type": "stream",
     "text": [
      "Predicted label :9\n",
      "True label :8\n",
      "Predicted label :13\n",
      "True label :14\n",
      "Predicted label :0\n",
      "True label :14\n",
      "Predicted label :14\n",
      "True label :8\n",
      "Predicted label :16\n",
      "True label :15\n",
      "Predicted label :13\n",
      "True label :4\n"
     ]
    },
    {
     "data": {
      "image/png": "[encoded data removed]",
      "text/plain": [
       "<Figure size 432x288 with 6 Axes>"
      ]
     },
     "metadata": {},
     "output_type": "display_data"
    }
   ],
   "source": [
    "Y_pred = model.predict(X_val)\n",
    "# Convert predictions classes to one hot vectors \n",
    "Y_pred_classes = np.argmax(Y_pred,axis = 1) \n",
    "# Convert validation observations to one hot vectors\n",
    "Y_true = np.argmax(Y_val,axis = 1) \n",
    "errors = (Y_pred_classes - Y_true != 0)\n",
    "\n",
    "Y_pred_classes_errors = Y_pred_classes[errors]\n",
    "Y_pred_errors = Y_pred[errors]\n",
    "Y_true_errors = Y_true[errors]\n",
    "X_val_errors = X_val[errors]\n",
    "\n",
    "def display_errors(errors_index,img_errors,pred_errors, obs_errors):\n",
    "    \"\"\" This function shows 6 images with their predicted and real labels\"\"\"\n",
    "    n = 0\n",
    "    nrows = 2\n",
    "    ncols = 3\n",
    "    fig, ax = plt.subplots(nrows,ncols,sharex=True,sharey=True)\n",
    "    for row in range(nrows):\n",
    "        for col in range(ncols):\n",
    "            error = errors_index[n]\n",
    "            ax[row,col].imshow((img_errors[error]).reshape((54,30)))\n",
    "            ax[row,col].set_title(\"Predicted label :{}\\nTrue label :{}\".format(pred_errors[error],obs_errors[error]))\n",
    "            print(\"Predicted label :{}\\nTrue label :{}\".format(pred_errors[error],obs_errors[error]))\n",
    "            n += 1\n",
    "\n",
    "# Probabilities of the wrong predicted numbers\n",
    "Y_pred_errors_prob = np.max(Y_pred_errors,axis = 1)\n",
    "\n",
    "# Predicted probabilities of the true values in the error set\n",
    "true_prob_errors = np.diagonal(np.take(Y_pred_errors, Y_true_errors, axis=1))\n",
    "\n",
    "# Difference between the probability of the predicted label and the true label\n",
    "delta_pred_true_errors = Y_pred_errors_prob - true_prob_errors\n",
    "\n",
    "# Sorted list of the delta prob errors\n",
    "sorted_dela_errors = np.argsort(delta_pred_true_errors)\n",
    "\n",
    "# Top 6 errors \n",
    "most_important_errors = sorted_dela_errors[-6:]\n",
    "\n",
    "# Show the top 6 errors\n",
    "display_errors(most_important_errors, X_val_errors, Y_pred_classes_errors, Y_true_errors)"
   ]
  },
  {
   "cell_type": "markdown",
   "metadata": {
    "papermill": {
     "duration": 0.403769,
     "end_time": "2020-10-23T11:15:33.510289",
     "exception": false,
     "start_time": "2020-10-23T11:15:33.106520",
     "status": "completed"
    },
    "tags": []
   },
   "source": [
    "# Analysis on Cpatcha images\n",
    "Til now we have evaluated and traied our model on charcter dataset, what we are going to do here is test the accuracy of our model on captcha images.\n",
    "A captcha image is said to be correctly predicted if all the characters in that image are correcty identified. "
   ]
  },
  {
   "cell_type": "code",
   "execution_count": 20,
   "metadata": {
    "execution": {
     "iopub.execute_input": "2020-10-23T11:15:34.376397Z",
     "iopub.status.busy": "2020-10-23T11:15:34.375583Z",
     "iopub.status.idle": "2020-10-23T11:15:34.379562Z",
     "shell.execute_reply": "2020-10-23T11:15:34.378941Z"
    },
    "papermill": {
     "duration": 0.427608,
     "end_time": "2020-10-23T11:15:34.379673",
     "exception": false,
     "start_time": "2020-10-23T11:15:33.952065",
     "status": "completed"
    },
    "tags": []
   },
   "outputs": [],
   "source": [
    "def captcha(img,p):\n",
    "    im=cv2.imread(str(img),0)\n",
    "    threshold=cv2.adaptiveThreshold(im, 255, cv2.ADAPTIVE_THRESH_GAUSSIAN_C,cv2.THRESH_BINARY, 199, 5)\n",
    "    erosion =cv2.dilate(threshold,kernel,iterations=2)\n",
    "    images=[]\n",
    "    for i in range(5):\n",
    "        images.append(pad(erosion[:,(30+23*i):(30+23*(i+1))]))\n",
    "    images=np.reshape(images,(-1,54,30,1))\n",
    "    pred=model.predict(images)\n",
    "    pred=np.argmax(pred,axis = 1)\n",
    "    predicted=str(l[pred[0]]+l[pred[1]]+l[pred[2]]+l[pred[3]]+l[pred[4]])\n",
    "    if(p):\n",
    "        print(predicted)\n",
    "    if(predicted==img[-9:-4]):\n",
    "        return 1\n",
    "    return 0\n",
    "    "
   ]
  },
  {
   "cell_type": "code",
   "execution_count": 21,
   "metadata": {
    "execution": {
     "iopub.execute_input": "2020-10-23T11:15:35.175707Z",
     "iopub.status.busy": "2020-10-23T11:15:35.175027Z",
     "iopub.status.idle": "2020-10-23T11:16:21.713299Z",
     "shell.execute_reply": "2020-10-23T11:16:21.712004Z"
    },
    "papermill": {
     "duration": 46.936736,
     "end_time": "2020-10-23T11:16:21.713452",
     "exception": false,
     "start_time": "2020-10-23T11:15:34.776716",
     "status": "completed"
    },
    "tags": []
   },
   "outputs": [],
   "source": [
    "images = list(data_dir.glob(\"*.png\"))\n",
    "t=0\n",
    "for i in images:\n",
    "    t+=captcha(str(i),False)"
   ]
  },
  {
   "cell_type": "markdown",
   "metadata": {
    "papermill": {
     "duration": 0.39965,
     "end_time": "2020-10-23T11:16:22.541795",
     "exception": false,
     "start_time": "2020-10-23T11:16:22.142145",
     "status": "completed"
    },
    "tags": []
   },
   "source": [
    "# Acuuracy"
   ]
  },
  {
   "cell_type": "code",
   "execution_count": 22,
   "metadata": {
    "execution": {
     "iopub.execute_input": "2020-10-23T11:16:23.334414Z",
     "iopub.status.busy": "2020-10-23T11:16:23.332091Z",
     "iopub.status.idle": "2020-10-23T11:16:23.337313Z",
     "shell.execute_reply": "2020-10-23T11:16:23.335078Z"
    },
    "papermill": {
     "duration": 0.401068,
     "end_time": "2020-10-23T11:16:23.337459",
     "exception": false,
     "start_time": "2020-10-23T11:16:22.936391",
     "status": "completed"
    },
    "tags": []
   },
   "outputs": [
    {
     "name": "stdout",
     "output_type": "stream",
     "text": [
      "total images 1040 correctly identified 961\n",
      "Accuracy is 0.9240384615384616\n"
     ]
    }
   ],
   "source": [
    "print(\"total images\",len(images),\"correctly identified\",t)\n",
    "print(\"Accuracy is\",t/len(images))"
   ]
  },
  {
   "cell_type": "markdown",
   "metadata": {
    "papermill": {
     "duration": 0.389117,
     "end_time": "2020-10-23T11:16:24.112780",
     "exception": false,
     "start_time": "2020-10-23T11:16:23.723663",
     "status": "completed"
    },
    "tags": []
   },
   "source": [
    "# Let's Test a single captcha code"
   ]
  },
  {
   "cell_type": "code",
   "execution_count": 23,
   "metadata": {
    "execution": {
     "iopub.execute_input": "2020-10-23T11:16:24.898067Z",
     "iopub.status.busy": "2020-10-23T11:16:24.897209Z",
     "iopub.status.idle": "2020-10-23T11:16:24.956941Z",
     "shell.execute_reply": "2020-10-23T11:16:24.957544Z"
    },
    "papermill": {
     "duration": 0.45493,
     "end_time": "2020-10-23T11:16:24.957702",
     "exception": false,
     "start_time": "2020-10-23T11:16:24.502772",
     "status": "completed"
    },
    "tags": []
   },
   "outputs": [
    {
     "name": "stdout",
     "output_type": "stream",
     "text": [
      "y48c3\n"
     ]
    },
    {
     "data": {
      "text/plain": [
       "1"
      ]
     },
     "execution_count": 23,
     "metadata": {},
     "output_type": "execute_result"
    }
   ],
   "source": [
    "img='/kaggle/input/captcha-version-2-images/samples/y48c3.png'\n",
    "captcha(img,True)"
   ]
  },
  {
   "cell_type": "code",
   "execution_count": null,
   "metadata": {
    "papermill": {
     "duration": 0.394403,
     "end_time": "2020-10-23T11:16:25.753860",
     "exception": false,
     "start_time": "2020-10-23T11:16:25.359457",
     "status": "completed"
    },
    "tags": []
   },
   "outputs": [],
   "source": []
  },
  {
   "cell_type": "code",
   "execution_count": null,
   "metadata": {
    "papermill": {
     "duration": 0.396829,
     "end_time": "2020-10-23T11:16:26.562345",
     "exception": false,
     "start_time": "2020-10-23T11:16:26.165516",
     "status": "completed"
    },
    "tags": []
   },
   "outputs": [],
   "source": []
  }
 ],
 "metadata": {
  "kernelspec": {
   "display_name": "Python 3",
   "language": "python",
   "name": "python3"
  },
  "language_info": {
   "codemirror_mode": {
    "name": "ipython",
    "version": 3
   },
   "file_extension": ".py",
   "mimetype": "text/x-python",
   "name": "python",
   "nbconvert_exporter": "python",
   "pygments_lexer": "ipython3",
   "version": "3.7.6"
  },
  "papermill": {
   "duration": 150.114997,
   "end_time": "2020-10-23T11:16:28.809364",
   "environment_variables": {},
   "exception": null,
   "input_path": "__notebook__.ipynb",
   "output_path": "__notebook__.ipynb",
   "parameters": {},
   "start_time": "2020-10-23T11:13:58.694367",
   "version": "2.1.0"
  }
 },
 "nbformat": 4,
 "nbformat_minor": 4
}
